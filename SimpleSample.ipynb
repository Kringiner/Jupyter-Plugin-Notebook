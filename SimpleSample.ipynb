{
 "cells": [
  {
   "cell_type": "code",
   "execution_count": 2,
   "metadata": {},
   "outputs": [],
   "source": [
    "from math import sqrt\n",
    "\n",
    "def absd():\n",
    "    return 10\n",
    "\n",
    "beta = 12\n",
    "x = 1-beta\n",
    "alpha = 12*beta\n",
    "b = x*(10-x)/10\n",
    "c = sqrt(3)*(10-x)/5  + absd()\n",
    "\n",
    "for i in range(10):\n",
    "    beta = 12\n",
    "    x = (1-beta)/beta\n",
    "    for i in range(12):\n",
    "        beta = 12\n",
    "        x = 1-beta\n",
    "\n",
    "if x == 12:\n",
    "    x = x - beta/2\n",
    "elif x == 11:\n",
    "    x = x - beta/12\n",
    "else:\n",
    "    x = x - beta/beta\n",
    "\n",
    "\n",
    "\n"
   ]
  },
  {
   "cell_type": "code",
   "execution_count": null,
   "metadata": {},
   "outputs": [],
   "source": []
  },
  {
   "cell_type": "code",
   "execution_count": null,
   "metadata": {},
   "outputs": [],
   "source": []
  },
  {
   "cell_type": "code",
   "execution_count": null,
   "metadata": {},
   "outputs": [],
   "source": []
  }
 ],
 "metadata": {
  "kernelspec": {
   "display_name": "Python 3",
   "language": "python",
   "name": "python3"
  },
  "language_info": {
   "codemirror_mode": {
    "name": "ipython",
    "version": 3
   },
   "file_extension": ".py",
   "mimetype": "text/x-python",
   "name": "python",
   "nbconvert_exporter": "python",
   "pygments_lexer": "ipython3",
   "version": "3.8.6"
  }
 },
 "nbformat": 4,
 "nbformat_minor": 1
}