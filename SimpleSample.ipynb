{
 "cells": [
  {
   "cell_type": "code",
   "execution_count": null,
   "metadata": {
    "pycharm": {
     "name": "#%%\n"
    }
   },
   "outputs": [],
   "source": [
    "from math import sqrt\n",
    "\n",
    "def absd():\n",
    "    return 10\n",
    "\n",
    "absd()\n",
    "\n",
    "beta = 12\n",
    "x = 1-beta\n",
    "alpha = 12*beta\n",
    "b = x*(10-x)/10\n",
    "c = sqrt(3)*(10-x)/5  + absd()\n",
    "\n",
    "for i in range(10):\n",
    "    beta = 12\n",
    "    x = (1-beta)/beta\n",
    "    for i in range(12):\n",
    "        beta = 12\n",
    "        x = 1-beta\n",
    "\n",
    "if x == 12:\n",
    "    x = x - beta/2\n",
    "elif x == 11:\n",
    "    x = x - beta/12\n",
    "else:\n",
    "    x = x - beta/beta"
   ]
  }
 ],
 "metadata": {
  "kernelspec": {
   "display_name": "Python 3 (ipykernel)",
   "language": "python",
   "name": "python3"
  },
  "language_info": {
   "codemirror_mode": {
    "name": "ipython",
    "version": 3
   },
   "file_extension": ".py",
   "mimetype": "text/x-python",
   "name": "python",
   "nbconvert_exporter": "python",
   "pygments_lexer": "ipython3",
   "version": "3.9.6"
  }
 },
 "nbformat": 4,
 "nbformat_minor": 1
}